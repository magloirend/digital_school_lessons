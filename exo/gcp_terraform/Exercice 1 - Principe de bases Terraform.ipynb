{
 "cells": [
  {
   "cell_type": "markdown",
   "id": "sporting-cooling",
   "metadata": {},
   "source": [
    "*Setup*:\n",
    "\n",
    "CLICK 👉🏾 :\n",
    "https://cloud.google.com/free?hl=fr\n",
    "\n",
    "Crée un compte avec l'offre d'essai ( une CB sera sûrement nécessaire)\n",
    "\n",
    "inscris toi et va dans la console"
   ]
  },
  {
   "cell_type": "markdown",
   "id": "royal-universe",
   "metadata": {
    "ExecuteTime": {
     "end_time": "2023-05-01T14:42:42.583274Z",
     "start_time": "2023-05-01T14:42:42.567399Z"
    }
   },
   "source": [
    "**Activer Google Cloud Shell**\n",
    "\n",
    "Google Cloud Shell est une machine virtuelle qui contient des outils pour les développeurs. \n",
    "\n",
    "Elle comprend un répertoire d'accueil persistant de 5 Go et s'exécute sur Google Cloud. Google Cloud Shell offre un accès en ligne de commande à vos ressources GCP.\n",
    "\n",
    "Dans la console GCP, dans la barre d'outils située en haut à droite, cliquez sur le bouton **Ouvrir Cloud Shell**.\n",
    "\n",
    "<img src=\"https://cdn.qwiklabs.com/vdY5e%2Fan9ZGXw5a%2FZMb1agpXhRGozsOadHURcR8thAQ%3D\">\n",
    "\n",
    "\n",
    "Cliquez sur Continue (Continuez):\n",
    "\n",
    "<img src=\"https://cdn.qwiklabs.com/lr3PBRjWIrJ%2BMQnE8kCkOnRQQVgJnWSg4UWk16f0s%2FA%3D\">\n",
    "\n",
    "Il faut quelques instants pour mettre en service et se connecter à l'environnement. Lorsque vous êtes connecté, vous êtes déjà authentifié et le projet est défini sur votre PROJECT_ID. Par exemple:\n",
    "\n",
    "<img src=\"https://cdn.qwiklabs.com/hmMK0W41Txk%2B20bQyuDP9g60vCdBajIS%2B52iI2f4bYk%3D\">\n",
    "\n",
    "gcloud est l'outil de ligne de commande associé à Google Cloud Platform. Pré-installé sur Cloud Shell, il est également compatible avec la saisie semi-automatique via la touche de tabulation.\n",
    "\n",
    "Vous pouvez répertorier les noms des comptes actifs à l'aide de cette commande :"
   ]
  },
  {
   "cell_type": "code",
   "execution_count": 6,
   "id": "circular-shower",
   "metadata": {
    "ExecuteTime": {
     "end_time": "2023-05-01T14:59:54.240745Z",
     "start_time": "2023-05-01T14:59:51.513767Z"
    }
   },
   "outputs": [
    {
     "name": "stdout",
     "output_type": "stream",
     "text": [
      "          Credentialed Accounts\r\n",
      "ACTIVE  ACCOUNT\r\n",
      "        datamanager@independanceroyale.com\r\n",
      "        magloire.ndabagera-ext@follow.fr\r\n",
      "        magloire.ndabagera@ext.adeo.com\r\n",
      "*       magloire.ndabagera@gmail.com\r\n",
      "        magloire.ndabagera@hm.com\r\n",
      "\r\n",
      "To set the active account, run:\r\n",
      "    $ gcloud config set account `ACCOUNT`\r\n",
      "\r\n"
     ]
    }
   ],
   "source": [
    "!gcloud auth list"
   ]
  },
  {
   "cell_type": "code",
   "execution_count": 7,
   "id": "graduate-republic",
   "metadata": {
    "ExecuteTime": {
     "end_time": "2023-05-01T15:00:39.292169Z",
     "start_time": "2023-05-01T15:00:37.335006Z"
    }
   },
   "outputs": [
    {
     "name": "stdout",
     "output_type": "stream",
     "text": [
      "[core]\r\n",
      "project = divendtrack\r\n",
      "\r\n",
      "Your active configuration is: [default]\r\n"
     ]
    }
   ],
   "source": [
    "!gcloud config list project"
   ]
  },
  {
   "cell_type": "markdown",
   "id": "inner-sweet",
   "metadata": {
    "ExecuteTime": {
     "end_time": "2023-05-01T14:35:16.876032Z",
     "start_time": "2023-05-01T14:35:16.848088Z"
    }
   },
   "source": [
    "# Principes de bases Terraform\n",
    "\n",
    "## Qu'est-ce que Terraform ?\n",
    "\n",
    "Terraform est un outil permettant de créer et de modifier des infrastructures, ainsi que d'en gérer les versions efficacement et en toute sécurité. Terraform gère aussi bien les fournisseurs de services existants les plus prisés que les solutions internes personnalisées.\n",
    "\n",
    "Les fichiers de configuration décrivent à Terraform les composants requis pour l'exécution d'une application donnée ou de l'ensemble de votre centre de données. Terraform génère un plan d'exécution détaillant les opérations qu'il effectuera pour atteindre l'état souhaité, puis il exécute ce plan pour créer l'infrastructure décrite. Lorsque la configuration est modifiée, Terraform peut déterminer ce qui a changé et créer des plans d'exécution incrémentiels applicables.\n",
    "\n",
    "Terraform gère des composants d'infrastructure de bas niveau, comme des instances de calcul et des ressources de stockage ou de mise en réseau, et des composants de haut niveau, tels que des entrées de système de noms de domaine (DNS, Domain Name System) et des fonctionnalités SaaS (Software as a Service).\n",
    "\n",
    "**Principales fonctionnalités**\n",
    "Infrastructure as Code\n",
    "L'infrastructure est décrite à l'aide d'une syntaxe de configuration de haut niveau. Cela vous permet de gérer les versions d'un plan de votre centre de données et de traiter ce plan comme n'importe quel autre code. En outre, vous pouvez partager l'infrastructure et la réutiliser.\n",
    "\n",
    "**Plans d'exécution**\n",
    "Terraform propose une étape de planification lors de laquelle il génère un plan d'exécution. Ce plan décrit les opérations effectuées par Terraform lorsque vous exécutez la commande apply. Cela vous évite toute mauvaise surprise lorsque Terraform manipule l'infrastructure.\n",
    "\n",
    "**Graphique des ressources**\n",
    "Terraform crée un graphique de l'ensemble de vos ressources, puis traite en parallèle la création et la modification des ressources non dépendantes. Terraform est ainsi en mesure de créer l'infrastructure la plus efficace possible, et renseigne les opérateurs sur les dépendances qui existent dans leur infrastructure.\n",
    "\n",
    "**Automatisation des modifications**\n",
    "Terraform peut appliquer à votre infrastructure des ensembles de modifications complexes avec un minimum d'intervention de votre part. Grâce au plan d'exécution et au graphique des ressources susmentionnés, vous connaissez précisément la nature et l'ordre des modifications apportées par Terraform, ce qui vous permet d'éviter de nombreux risques d'erreurs humaines.\n",
    "\n"
   ]
  },
  {
   "cell_type": "markdown",
   "id": "laughing-bleeding",
   "metadata": {},
   "source": [
    "## Vérifier l'installation Terraform\n",
    "Terraform est préinstallé dans Cloud Shell.\n",
    "\n",
    "Ouvrez un nouvel onglet Cloud Shell et vérifiez si Terraform est disponible :"
   ]
  },
  {
   "cell_type": "code",
   "execution_count": null,
   "id": "every-italian",
   "metadata": {},
   "outputs": [],
   "source": [
    "terraform"
   ]
  },
  {
   "cell_type": "markdown",
   "id": "accessible-boring",
   "metadata": {},
   "source": [
    "Le résultat d'aide doit être semblable à ceci :"
   ]
  },
  {
   "cell_type": "code",
   "execution_count": null,
   "id": "wrong-recognition",
   "metadata": {},
   "outputs": [],
   "source": [
    "Usage: terraform [--version] [--help] <command> [args]\n",
    "The available commands for execution are listed below.\n",
    "The most common, useful commands are shown first, followed by\n",
    "less common or more advanced commands. If you're just getting\n",
    "started with Terraform, stick with the common commands. For the\n",
    "other commands, please read the help and docs before usage.\n",
    "Common commands:\n",
    "    apply              Builds or changes infrastructure\n",
    "    console            Interactive console for Terraform interpolations\n",
    "    destroy            Destroy Terraform-managed infrastructure\n",
    "    env                Workspace management\n",
    "    fmt                Rewrites config files to canonical format\n",
    "    get                Download and install modules for the configuration\n",
    "    graph              Create a visual graph of Terraform resources\n",
    "    import             Import existing infrastructure into Terraform\n",
    "    init               Initialize a Terraform working directory\n",
    "    output             Read an output from a state file\n",
    "    plan               Generate and show an execution plan\n",
    "    providers          Prints a tree of the providers used in the configuration\n",
    "    push               Upload this Terraform module to Atlas to run\n",
    "    refresh            Update local state file against real resources\n",
    "    show               Inspect Terraform state or plan\n",
    "    taint              Manually mark a resource for recreation\n",
    "    untaint            Manually unmark a resource as tainted\n",
    "    validate           Validates the Terraform files\n",
    "    version            Prints the Terraform version\n",
    "    workspace          Workspace management\n",
    "All other commands:\n",
    "    debug              Debug output management (experimental)\n",
    "    force-unlock       Manually unlock the terraform state\n",
    "    state              Advanced state management"
   ]
  },
  {
   "cell_type": "markdown",
   "id": "occasional-rouge",
   "metadata": {},
   "source": [
    "## Créer l'infrastructure\n",
    "\n",
    "Une fois Terraform installé, vous pouvez immédiatement commencer à créer une infrastructure.\n",
    "\n",
    "**Configuration**\n",
    "L'ensemble de fichiers décrivant l'infrastructure dans Terraform est simplement désigné sous le terme de configuration Terraform. \n",
    "Dans cette section, vous allez écrire votre première configuration pour lancer une instance de VM unique. \n",
    "Le format des fichiers de configuration est décrit [ICI](https://developer.hashicorp.com/terraform/language). \n",
    "Nous vous recommandons de créer les fichiers de configuration au format JSON.\n",
    "\n",
    " 1 - Dans Cloud Shell, créez un fichier de configuration vide nommé instance.tf à l'aide de la commande suivante :"
   ]
  },
  {
   "cell_type": "code",
   "execution_count": null,
   "id": "defensive-pipeline",
   "metadata": {},
   "outputs": [],
   "source": [
    "touch instance.tf"
   ]
  },
  {
   "cell_type": "markdown",
   "id": "norwegian-directive",
   "metadata": {},
   "source": [
    "2- Cliquez sur Ouvrir l'éditeur dans la barre d'outils Cloud Shell.\n",
    "\n",
    "Pour passer de Cloud Shell à l'éditeur de code et vice-versa, \n",
    "cliquez sur Ouvrir l'éditeur ou Ouvrir le terminal tel que nécessaire, \n",
    "\n",
    "ou cliquez sur Ouvrir dans une nouvelle fenêtre (image) pour laisser l'éditeur ouvert dans un onglet distinct."
   ]
  },
  {
   "cell_type": "markdown",
   "id": "continuing-printing",
   "metadata": {},
   "source": [
    "3- Cliquez sur le fichier instance.tf \n",
    "\n",
    "et ajoutez-y le contenu suivant, en remplaçant <ID_DU_PROJET> par votre ID de projet Google Cloud :"
   ]
  },
  {
   "cell_type": "code",
   "execution_count": null,
   "id": "remarkable-lounge",
   "metadata": {},
   "outputs": [],
   "source": [
    "resource \"google_compute_instance\" \"terraform\" {\n",
    "  project      = \"<ID_DU_PROJET>\"\n",
    "  name         = \"terraform\"\n",
    "  machine_type = \"n1-standard-1\"\n",
    "  zone         = \"europe-west1-b\"\n",
    "  boot_disk {\n",
    "    initialize_params {\n",
    "      image = \"debian-cloud/debian-11\"\n",
    "    }\n",
    "  }\n",
    "  network_interface {\n",
    "    network = \"default\"\n",
    "    access_config {\n",
    "    }\n",
    "  }\n",
    "}"
   ]
  },
  {
   "cell_type": "markdown",
   "id": "statistical-height",
   "metadata": {},
   "source": [
    "Ce fichier constitue une configuration complète immédiatement applicable par Terraform. \n",
    "\n",
    "Sa structure générale doit se révéler intuitive et simple.\n",
    "\n",
    "Le bloc \"resource\" figurant dans le fichier instance.tf définit une ressource existante de l'infrastructure. Une ressource peut correspondre à un composant physique, tel qu'une instance de VM.\n",
    "\n",
    "Le bloc \"resource\" est introduit par deux chaînes : le type de ressource et le nom de ressource. Pour cet atelier, la ressource présente le type google_compute_instance et le nom terraform. Le préfixe du type est mappé sur le fournisseur : ainsi, google_compute_instance indique automatiquement à Terraform que la ressource est gérée par le fournisseur Google.\n",
    "\n",
    "Le bloc \"resource\" renferme la configuration requise pour la ressource.\n",
    "\n",
    "4 - Dans Cloud Shell, vérifiez que le fichier que vous avez créé a bien été ajouté et que votre répertoire ne contient aucun autre fichier *.tf, puisque Terraform charge tous les fichiers stockés dans ce répertoire :"
   ]
  },
  {
   "cell_type": "code",
   "execution_count": null,
   "id": "gorgeous-empty",
   "metadata": {},
   "outputs": [],
   "source": [
    "ls"
   ]
  },
  {
   "cell_type": "markdown",
   "id": "infinite-ivory",
   "metadata": {},
   "source": [
    "## Initialisation\n",
    "\n",
    "La première commande à exécuter pour une nouvelle configuration, ou après la récupération d'une configuration existante à partir du contrôle des versions, est terraform init. \n",
    "\n",
    "Cette commande initialise différents paramètres et données locaux qui seront utilisés par les commandes ultérieures.\n",
    "\n",
    "Terraform est doté d'une architecture basée sur des plug-ins compatible avec les nombreux fournisseurs de service et infrastructures disponibles.\n",
    "\n",
    "Chaque \"fournisseur\" est un binaire encapsulé qui est distribué séparément de Terraform. \n",
    "\n",
    "La commande terraform init télécharge et installe automatiquement le binaire des fournisseurs à utiliser dans la configuration, qui se limite ici à celui du fournisseur Google.\n"
   ]
  },
  {
   "cell_type": "code",
   "execution_count": null,
   "id": "renewable-hello",
   "metadata": {},
   "outputs": [],
   "source": [
    "#1 - Téléchargez et installez le binaire du fournisseur :\n",
    "terraform init"
   ]
  },
  {
   "cell_type": "markdown",
   "id": "corporate-namibia",
   "metadata": {},
   "source": [
    "Le plug-in du fournisseur Google est téléchargé et installé dans un sous-répertoire du répertoire de travail actuel, avec divers autres fichiers comptables.\n",
    "\n",
    "Vous obtenez alors le message \"Initializing provider plugins\". \n",
    "\n",
    "Terraform sait que vous exécutez un projet Google et obtient donc les ressources de ce fournisseur."
   ]
  },
  {
   "cell_type": "code",
   "execution_count": null,
   "id": "bearing-depth",
   "metadata": {},
   "outputs": [],
   "source": [
    "Downloading plugin for provider \"google\" (2.12.0)..."
   ]
  },
  {
   "cell_type": "markdown",
   "id": "maritime-daisy",
   "metadata": {},
   "source": [
    "Le résultat indique la version du plug-in en cours d'installation, et vous suggère de spécifier cette version dans les fichiers de configuration ultérieurs pour garantir le fait que la commande terraform init installera une version compatible."
   ]
  },
  {
   "cell_type": "code",
   "execution_count": null,
   "id": "confused-profession",
   "metadata": {},
   "outputs": [],
   "source": [
    "#2 - Créez un plan d'exécution :\n",
    "terraform plan"
   ]
  },
  {
   "cell_type": "markdown",
   "id": "quiet-recipient",
   "metadata": {},
   "source": [
    "Terraform procède à une actualisation (sauf si cette fonctionnalité a été explicitement désactivée), puis détermine les actions requises pour obtenir l'état spécifié dans les fichiers de configuration. Cette commande vous permet de vérifier facilement si le plan d'exécution d'un ensemble de modifications répond à vos attentes sans nécessiter de changements aux ressources réelles ou à l'état. Par exemple, vous pouvez exécuter cette commande avant d'apporter une modification au contrôle des versions, afin de vous assurer qu'elle aura l'effet voulu"
   ]
  },
  {
   "cell_type": "markdown",
   "id": "incident-inside",
   "metadata": {},
   "source": [
    "Remarque: \n",
    "\n",
    "Vous pouvez utiliser l'argument -out facultatif pour enregistrer le plan généré dans un fichier en vue de l'exécuter ultérieurement à l'aide de la commande *terraform apply*."
   ]
  },
  {
   "cell_type": "markdown",
   "id": "brown-president",
   "metadata": {},
   "source": [
    "## Appliquer les modifications"
   ]
  },
  {
   "cell_type": "code",
   "execution_count": null,
   "id": "color-throat",
   "metadata": {},
   "outputs": [],
   "source": [
    "# 1 - Dans le répertoire contenant le fichier instance.tf que vous avez créé, exécutez cette commande :\n",
    "\n",
    "terraform apply"
   ]
  },
  {
   "cell_type": "markdown",
   "id": "utility-kennedy",
   "metadata": {},
   "source": [
    "Le résultat ci-dessous présente le plan d'exécution, qui décrit les opérations que Terraform effectuera pour modifier l'infrastructure réelle en fonction de la configuration. Le format du résultat est semblable au format diff généré par des outils tels que Git.\n",
    "\n",
    "Le signe + qui figure à côté de google_compute_instance.terraform signifie que Terraform va créer cette ressource. Cette chaîne est suivie des attributs qui seront définis. Lorsque la valeur affichée est **< computed >**, cela signifie qu'elle ne sera connue qu'une fois la ressource créée."
   ]
  },
  {
   "cell_type": "code",
   "execution_count": null,
   "id": "mighty-yacht",
   "metadata": {},
   "outputs": [],
   "source": [
    "# Exemple de résultat :\n",
    "\n",
    "An execution plan has been generated and is shown below.\n",
    "Resource actions are indicated with the following symbols:\n",
    "  + create\n",
    "Terraform will perform the following actions:\n",
    "  # google_compute_instance.default will be created\n",
    "  + resource \"google_compute_instance\" \"default\" {\n",
    "      + can_ip_forward       = false\n",
    "      + cpu_platform         = (known after apply)\n",
    "      + deletion_protection  = false\n",
    "      + guest_accelerator    = (known after apply)\n",
    "      + id                   = (known after apply)\n",
    "      + instance_id          = (known after apply)\n",
    "      + label_fingerprint    = (known after apply)\n",
    "      + machine_type         = \"n1-standard-1\"\n",
    "      + metadata_fingerprint = (known after apply)\n",
    "      + name                 = \"terraform\"\n",
    "      + project              = \"qwiklabs-gcp-42390cc9da8a4c4b\"\n",
    "      + self_link            = (known after apply)\n",
    "      + tags_fingerprint     = (known after apply)\n",
    "      + zone                 = \"us-central1-a\"\n",
    "      + boot_disk {\n",
    "          + auto_delete                = true\n",
    "          + device_name                = (known after apply)\n",
    "          + disk_encryption_key_sha256 = (known after apply)\n",
    "          + kms_key_self_link          = (known after apply)\n",
    "          + source                     = (known after apply)\n",
    "          + initialize_params {\n",
    "              + image  = \"debian-cloud/debian-9\"\n",
    "              + labels = (known after apply)\n",
    "              + size   = (known after apply)\n",
    "              + type   = (known after apply)\n",
    "            }\n",
    "        }\n",
    "      + network_interface {\n",
    "          + address            = (known after apply)\n",
    "          + name               = (known after apply)\n",
    "          + network            = \"default\"\n",
    "          + network_ip         = (known after apply)\n",
    "          + subnetwork         = (known after apply)\n",
    "          + subnetwork_project = (known after apply)\n",
    "          + access_config {\n",
    "              + assigned_nat_ip = (known after apply)\n",
    "              + nat_ip          = (known after apply)\n",
    "              + network_tier    = (known after apply)\n",
    "            }\n",
    "        }\n",
    "      + scheduling {\n",
    "          + automatic_restart   = (known after apply)\n",
    "          + on_host_maintenance = (known after apply)\n",
    "          + preemptible         = (known after apply)\n",
    "          + node_affinities {\n",
    "              + key      = (known after apply)\n",
    "              + operator = (known after apply)\n",
    "              + values   = (known after apply)\n",
    "            }\n",
    "        }\n",
    "    }\n",
    "Plan: 1 to add, 0 to change, 0 to destroy.\n",
    "Do you want to perform these actions?\n",
    "  Terraform will perform the actions described above.\n",
    "  Only 'yes' will be accepted to approve.\n",
    "  Enter a value:"
   ]
  },
  {
   "cell_type": "markdown",
   "id": "basic-following",
   "metadata": {},
   "source": [
    "Si le plan a bien été créé, Terraform s'interrompt et attend votre approbation avant de poursuivre. \n",
    "\n",
    "Dans un environnement de production, si un aspect quelconque du plan d'exécution semble incorrect ou hasardeux, vous pouvez sans risque annuler la procédure à ce stade. \n",
    "\n",
    "En effet, aucune modification n'a été apportée à votre infrastructure.\n",
    "\n",
    "Dans le cas présent, \n",
    "\n",
    "le plan semble acceptable, saisissez donc **yes (oui)** à l'invite de confirmation pour continuer.\n",
    "\n",
    "\n",
    "L'exécution du plan prend quelques minutes, car Terraform attend que l'instance de VM devienne disponible.\n",
    "Terraform a maintenant terminé."
   ]
  },
  {
   "cell_type": "markdown",
   "id": "physical-mission",
   "metadata": {},
   "source": [
    "Dans Google Cloud Console, accédez au menu de navigation et cliquez sur Compute Engine > VM instances (Instances de VM) pour voir l'instance de VM créée.\n",
    "\n",
    "<img src=\"https://cdn.qwiklabs.com/G%2B7bVyrxUqgGbTXXDF32L4EE4mdaPFVcoylKjNsC6xs%3D\">\n",
    "\n",
    "Terraform a écrit certaines données dans le fichier terraform.tfstate.\n",
    "\n",
    "Ce fichier d'état est extrêmement important, car il garde une trace de l'ID des ressources créées et permet ainsi à Terraform de savoir ce qu'il gère.\n"
   ]
  },
  {
   "cell_type": "code",
   "execution_count": 8,
   "id": "veterinary-blank",
   "metadata": {
    "ExecuteTime": {
     "end_time": "2023-05-01T15:26:23.278108Z",
     "start_time": "2023-05-01T15:26:23.264407Z"
    }
   },
   "outputs": [
    {
     "ename": "SyntaxError",
     "evalue": "invalid syntax (<ipython-input-8-8ef591779272>, line 3)",
     "output_type": "error",
     "traceback": [
      "\u001b[0;36m  File \u001b[0;32m\"<ipython-input-8-8ef591779272>\"\u001b[0;36m, line \u001b[0;32m3\u001b[0m\n\u001b[0;31m    terraform show\u001b[0m\n\u001b[0m              ^\u001b[0m\n\u001b[0;31mSyntaxError\u001b[0m\u001b[0;31m:\u001b[0m invalid syntax\n"
     ]
    }
   ],
   "source": [
    "# 1 - Dans Cloud Shell, inspectez l'état actuel :\n",
    "\n",
    "terraform show"
   ]
  },
  {
   "cell_type": "code",
   "execution_count": null,
   "id": "another-seller",
   "metadata": {},
   "outputs": [],
   "source": [
    "#Exemple de résultat :\n",
    "\n",
    "# google_compute_instance.default:\n",
    "resource \"google_compute_instance\" \"default\" {\n",
    "    can_ip_forward       = false\n",
    "    cpu_platform         = \"Intel Haswell\"\n",
    "    deletion_protection  = false\n",
    "    guest_accelerator    = []\n",
    "    id                   = \"terraform\"\n",
    "    instance_id          = \"3408292216444307052\"\n",
    "    label_fingerprint    = \"42WmSpB8rSM=\"\n",
    "    machine_type         = \"n1-standard-1\"\n",
    "    metadata_fingerprint = \"s6I5s2tjfKw=\"\n",
    "    name                 = \"terraform\"\n",
    "    project              = \"qwiklabs-gcp-42390cc9da8a4c4b\"\n",
    "    self_link            = \"https://www.googleapis.com/compute/v1/projects/qwiklabs-gcp-42390cc9da8a4c4b/zones/us-central1-a/instances/terraform\"\n",
    "    tags_fingerprint     = \"42WmSpB8rSM=\"\n",
    "    zone                 = \"us-central1-a\"\n",
    "    boot_disk {\n",
    "        auto_delete = true\n",
    "        device_name = \"persistent-disk-0\"\n",
    "        source      = \"https://www.googleapis.com/compute/v1/projects/qwiklabs-gcp-42390cc9da8a4c4b/zones/us-central1-a/disks/terraform\"\n",
    "...."
   ]
  },
  {
   "cell_type": "markdown",
   "id": "atmospheric-window",
   "metadata": {},
   "source": [
    "Comme vous pouvez le voir, en créant cette ressource, vous avez aussi rassemblé de très nombreuses informations la concernant. \n",
    "\n",
    "Vous pouvez référencer ces valeurs pour configurer d'autres ressources ou résultats.\n",
    "\n",
    "🎊🎊Félicitations 🎉🎉! \n",
    "\n",
    "Vous venez de créer votre première infrastructure avec Terraform. Vous avez découvert la syntaxe de configuration, un exemple de plan d'exécution de base et le fichier d'état."
   ]
  }
 ],
 "metadata": {
  "kernelspec": {
   "display_name": "Python 3",
   "language": "python",
   "name": "python3"
  },
  "language_info": {
   "codemirror_mode": {
    "name": "ipython",
    "version": 3
   },
   "file_extension": ".py",
   "mimetype": "text/x-python",
   "name": "python",
   "nbconvert_exporter": "python",
   "pygments_lexer": "ipython3",
   "version": "3.8.6"
  },
  "toc": {
   "base_numbering": 1,
   "nav_menu": {},
   "number_sections": true,
   "sideBar": true,
   "skip_h1_title": false,
   "title_cell": "Table of Contents",
   "title_sidebar": "Contents",
   "toc_cell": false,
   "toc_position": {},
   "toc_section_display": true,
   "toc_window_display": false
  }
 },
 "nbformat": 4,
 "nbformat_minor": 5
}
