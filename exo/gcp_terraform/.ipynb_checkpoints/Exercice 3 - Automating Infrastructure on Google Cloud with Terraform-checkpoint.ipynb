{
 "cells": [
  {
   "cell_type": "markdown",
   "id": "alive-drilling",
   "metadata": {},
   "source": [
    "# Automating Infrastructure on Google Cloud with Terraform"
   ]
  },
  {
   "cell_type": "markdown",
   "id": "continued-frame",
   "metadata": {},
   "source": [
    "Vous êtes ingénieur cloud stagiaire pour une jeune start-up 👨‍💻. \n",
    "\n",
    "\n",
    "Pour votre premier projet, votre nouveau patron vous a demandé de créer une infrastructure de façon rapide et efficace. Il vous a également chargé de concevoir un mécanisme permettant de suivre l'infrastructure pour pouvoir la consulter et la modifier par la suite. On vous a indiqué d'utiliser Terraform pour réaliser ce projet.\n",
    "\n",
    "Pour ce projet, vous allez utiliser Terraform afin de créer, déployer et suivre l'infrastructure sur Google Cloud, le fournisseur cloud de la start-up. Vous devrez également importer des instances mal gérées dans votre configuration et les corriger.\n",
    "\n",
    "Dans cet atelier, vous utiliserez Terraform pour importer et créer plusieurs instances de VM, un réseau VPC avec deux sous-réseaux, ainsi qu'une règle de pare-feu permettant au VPC d'autoriser les connexions entre les deux instances. Vous allez également créer un bucket Cloud Storage pour héberger votre backend distant."
   ]
  },
  {
   "cell_type": "markdown",
   "id": "lonely-exemption",
   "metadata": {},
   "source": [
    "**À la fin de chaque section, exécutez les commandes *plan* et *apply* pour bien valider votre travail.**"
   ]
  },
  {
   "cell_type": "markdown",
   "id": "beautiful-closing",
   "metadata": {},
   "source": [
    "## Tâche  : Créer les fichiers de configuration"
   ]
  },
  {
   "cell_type": "markdown",
   "id": "greenhouse-domain",
   "metadata": {},
   "source": [
    "1 -Dans Cloud Shell, créez vos fichiers de configuration Terraform et une structure de répertoire semblable à la suivante:"
   ]
  },
  {
   "cell_type": "code",
   "execution_count": null,
   "id": "blond-classroom",
   "metadata": {},
   "outputs": [],
   "source": [
    "main.tf\n",
    "variables.tf\n",
    "modules/\n",
    "└── instances\n",
    "    ├── instances.tf\n",
    "    ├── outputs.tf\n",
    "    └── variables.tf\n",
    "└── storage\n",
    "    ├── storage.tf\n",
    "    ├── outputs.tf\n",
    "    └── variables.tf"
   ]
  },
  {
   "cell_type": "markdown",
   "id": "described-integral",
   "metadata": {},
   "source": [
    "2 - Remplissez les fichiers variables.tf qui se trouvent dans le répertoire racine et dans les modules. Ajoutez trois variables à chaque fichier : region, zone et project_id. Utilisez respectivement **europe-west1-b**, **europe-west1-c** et votre ID de projet Google Cloud comme valeurs par défaut."
   ]
  },
  {
   "cell_type": "markdown",
   "id": "worthy-estimate",
   "metadata": {},
   "source": [
    "**💡 Noter: Utilisez ces variables partout où elles sont pertinentes dans vos configurations de ressources.**"
   ]
  },
  {
   "cell_type": "markdown",
   "id": "rubber-information",
   "metadata": {},
   "source": [
    "3 - Ajoutez le bloc Terraform et le [fournisseur Google](https://registry.terraform.io/providers/hashicorp/google/latest/docs) au fichier main.tf. Vérifiez que l'argument zone est bien ajouté avec les arguments project et region dans le bloc concernant le fournisseur Google."
   ]
  },
  {
   "cell_type": "markdown",
   "id": "worse-operations",
   "metadata": {},
   "source": [
    "4 - Initialisez Terraform."
   ]
  },
  {
   "cell_type": "markdown",
   "id": "drawn-weather",
   "metadata": {},
   "source": [
    "## Tâche 2 : Importer l'infrastructure\n",
    "\n",
    "1 - Dans Google Cloud Console, accédez au menu de navigation, cliquez sur Compute Engine > Instances de VM. Deux instances nommées tf-instance-1 et tf-instance-2 ont déjà été créées pour vous.\n",
    "\n",
    "**💡Noter: Cliquez sur une des instances pour consulter son ID d'instance, l'image du disque de démarrage et le type de machine. Ces informations sont nécessaires pour écrire correctement les configurations et les importer dans Terraform.** \n",
    "\n",
    "2 - Importez les instances existantes dans le module instances. Pour ce faire, procédez comme suit :\n",
    "Tout d'abord, ajoutez la référence du module au fichier main.tf, puis réinitialisez Terraform.\n",
    "\n",
    "- Écrivez ensuite les configurations de ressources dans le fichier instances.tf pour les faire correspondre aux instances pré-existantes.\n",
    "\n",
    "- Nommez vos instances tf-instance-1 et tf-instance-2.\n",
    "\n",
    "\n",
    "- Dans cet atelier, la configuration de ressources doit être minimale.\n",
    "        Pour ce faire, vous devrez seulement inclure les arguments supplémentaires suivants à votre configuration : machine_type, boot_disk, network_interface, metadata_startup_script et allow_stopping_for_update. Utilisez la configuration suivante pour les deux derniers arguments, afin de ne pas avoir à la recréer :"
   ]
  },
  {
   "cell_type": "code",
   "execution_count": null,
   "id": "quarterly-security",
   "metadata": {},
   "outputs": [],
   "source": [
    "metadata_startup_script = <<-EOT\n",
    "        #!/bin/bash\n",
    "    EOT\n",
    "allow_stopping_for_update = true"
   ]
  },
  {
   "cell_type": "markdown",
   "id": "indoor-health",
   "metadata": {},
   "source": [
    "- Une fois que vous avez écrit les configurations de ressources dans le module, utilisez la commande terraform import pour les importer dans votre module instances."
   ]
  },
  {
   "cell_type": "markdown",
   "id": "stunning-salon",
   "metadata": {},
   "source": [
    "3 - Appliquez les modifications. Remarque : comme vous n'avez pas renseigné tous les arguments dans la configuration entière, la commande apply va mettre à jour les instances en place. Cela suffira pour cet atelier, mais dans un environnement de production, veillez à renseigner correctement tous les arguments avant l'importation"
   ]
  },
  {
   "cell_type": "markdown",
   "id": "radical-barbados",
   "metadata": {},
   "source": [
    "## Tâche 3 : Configurer un backend distant\n",
    "\n",
    "1 - Créez une ressource de bucket Cloud Storage à l'intérieur du module storage. Utilisez Bucket Name comme nom de bucket. Pour les autres arguments, vous pouvez simplement utiliser les valeurs suivantes :"
   ]
  },
  {
   "cell_type": "code",
   "execution_count": null,
   "id": "otherwise-chicago",
   "metadata": {},
   "outputs": [],
   "source": [
    "location = \"EU\"\n",
    "\n",
    "force_destroy = true\n",
    "\n",
    "uniform_bucket_level_access = true"
   ]
  },
  {
   "cell_type": "markdown",
   "id": "progressive-stewart",
   "metadata": {},
   "source": [
    " **💡Noter: Vous pouvez, si vous le souhaitez, ajouter des valeurs de sortie dans le fichier outputs.tf.**"
   ]
  },
  {
   "cell_type": "markdown",
   "id": "automatic-jerusalem",
   "metadata": {
    "ExecuteTime": {
     "end_time": "2023-05-01T16:33:59.330056Z",
     "start_time": "2023-05-01T16:33:59.325699Z"
    }
   },
   "source": [
    "2 - Ajoutez la référence du module au fichier main.tf. Initialisez le module et exécutez la commande apply pour appliquer les modifications et ainsi créer le bucket à l'aide de Terraform.\n"
   ]
  },
  {
   "cell_type": "markdown",
   "id": "ethical-association",
   "metadata": {},
   "source": [
    "3 - Configurez ce bucket de stockage en tant que [backend distant](https://www.terraform.io/docs/language/settings/backends/gcs.html) dans le fichier main.tf. Veillez à utiliser le préfixe terraform/state pour qu'il puisse être évalué."
   ]
  },
  {
   "cell_type": "markdown",
   "id": "progressive-fiction",
   "metadata": {},
   "source": [
    "4 - Si vous avez écrit la configuration correctement, lors de l'exécution d'init, Terraform vous demandera si vous souhaitez copier les données d'état existantes dans le nouveau backend. Saisissez **yes** à l'invite."
   ]
  },
  {
   "cell_type": "markdown",
   "id": "marine-apparatus",
   "metadata": {},
   "source": [
    "## Tâche 4 : Modifier et mettre à jour l'infrastructure"
   ]
  },
  {
   "cell_type": "markdown",
   "id": "alone-quality",
   "metadata": {},
   "source": [
    "1 -Accédez au module instances et modifiez la ressource tf-instance-1 pour utiliser un type de machine n1-standard-2."
   ]
  },
  {
   "cell_type": "markdown",
   "id": "mobile-tuition",
   "metadata": {},
   "source": [
    "2 - Modifiez la ressource tf-instance-2 pour utiliser un type de machine n1-standard-2"
   ]
  },
  {
   "cell_type": "markdown",
   "id": "north-stocks",
   "metadata": {},
   "source": [
    "3 - Ajoutez une troisième ressource d'instance et nommez-la **< Instance Name >**. Pour cette troisième ressource, utilisez un type de machine n1-standard-2."
   ]
  },
  {
   "cell_type": "markdown",
   "id": "radical-vampire",
   "metadata": {},
   "source": [
    "4 - Initialisez Terraform et exécutez la commande apply pour appliquer vos modifications."
   ]
  },
  {
   "cell_type": "markdown",
   "id": "electric-lloyd",
   "metadata": {},
   "source": [
    "**💡Noter: Si vous le souhaitez, vous pouvez ajouter des valeurs de sortie de ces ressources dans le fichier outputs.tf du module.**"
   ]
  },
  {
   "cell_type": "markdown",
   "id": "korean-leave",
   "metadata": {},
   "source": [
    "## Tâche 5 : Rejeter et détruire des ressources\n",
    "\n",
    "1 - [Rejetez](https://developer.hashicorp.com/terraform/cli/commands/taint) la troisième instance **Instance Name**, puis exécutez les commandes plan et apply pour la recréer.\n",
    "\n",
    "2 - Détruisez la troisième instance **Instance Name** en supprimant la ressource du fichier de configuration. Après la suppression, initialisez Terraform et exécutez la commande apply pour appliquer les modifications.\n"
   ]
  },
  {
   "cell_type": "markdown",
   "id": "supposed-magnet",
   "metadata": {},
   "source": [
    "## Tâche 6 : Utiliser un module du registre\n",
    "\n",
    "1 - Dans le registre Terraform, accédez au module [Network](https://registry.terraform.io/modules/terraform-google-modules/network/google/3.4.0)."
   ]
  },
  {
   "cell_type": "markdown",
   "id": "adopted-coating",
   "metadata": {},
   "source": [
    "2 - Ajoutez ce module à votre fichier main.tf. Utilisez les configurations suivantes :\n",
    "\n",
    "- Utilisez la version 3.4.0 (les autres versions peuvent entraîner des erreurs de compatibilité).\n",
    "\n",
    "- Nommez le VPC **VPC Name** et utilisez un mode de routage mondial.\n",
    "\n",
    "- Spécifiez 2 sous-réseaux dans la région **europe-west1-b**, et nommez-les subnet-01 et subnet-02. Vous avez simplement besoin de définir les arguments de sous-réseau suivants : Nom, Adresse IP et Région.\n",
    "\n",
    "- Utilisez l'adresse IP 10.10.10.0/24 pour subnet-01 et 10.10.20.0/24 pour subnet-02\n",
    "\n",
    "- Vous n'avez pas besoin d'associer de plages ou de routes secondaires à ce VPC. Vous pouvez donc les omettre dans la configuration.\n"
   ]
  },
  {
   "cell_type": "markdown",
   "id": "freelance-there",
   "metadata": {},
   "source": [
    "3 - Une fois que vous avez écrit la configuration du module, initialisez Terraform et exécutez la commande apply pour créer les réseaux."
   ]
  },
  {
   "cell_type": "markdown",
   "id": "rolled-context",
   "metadata": {},
   "source": [
    "4 - Accédez ensuite au fichier instances.tf et modifiez les ressources de configuration afin de connecter tf-instance-1 à subnet-01 et tf-instance-2 à subnet-02."
   ]
  },
  {
   "cell_type": "markdown",
   "id": "grateful-heath",
   "metadata": {},
   "source": [
    "**💡 Noter : Dans la configuration des instances, vous devrez définir l'argument network sur VPC Name, puis ajouter l'argument subnetwork avec le sous-réseau adapté pour chaque instance.**"
   ]
  },
  {
   "cell_type": "markdown",
   "id": "center-fluid",
   "metadata": {},
   "source": [
    "## Tâche 7 : Configurer un pare-feu\n",
    "\n",
    "1 -Créez une ressource de règle de pare-feu dans le fichier main.tf et nommez-la tf-firewall.\n",
    "\n",
    "- Cette règle de pare-feu doit permettre au réseau **VPC Name** d'autoriser les connexions entrantes sur toutes les plages d'adresses IP (0.0.0.0/0) sur le port TCP 80.\n",
    "- Veillez à définir l'argument source_ranges sur la plage d'adresses IP appropriée (0.0.0.0/0).\n",
    "- Initialisez Terraform et exécutez la commande apply pour appliquer vos modifications."
   ]
  },
  {
   "cell_type": "markdown",
   "id": "external-enlargement",
   "metadata": {},
   "source": [
    "**💡Noter : Pour récupérer l'argument network requis, vous pouvez inspecter l'état et rechercher l'ID ou le self_link de la ressource google_compute_network que vous avez créée. Cet argument est au format projects/PROJECT_ID/global/networks/VPC Name.**"
   ]
  },
  {
   "cell_type": "markdown",
   "id": "variable-mechanics",
   "metadata": {},
   "source": [
    "## Test de connectivité (facultatif)\n",
    "Une fois que vous avez créé une règle de pare-feu pour autoriser les connexions internes sur le VPC, vous pouvez effectuer un test de connectivité réseau, si vous le souhaitez.\n",
    "\n",
    "1 - Vérifiez que vos deux VM sont en cours d'exécution.\n",
    "\n",
    "2- Accédez à Informations sur le réseau > Tests de connectivité. Exécutez un test de connectivité sur les deux VM pour vérifier qu'elles sont accessibles. Vous venez de valider la connectivité entre les instances.\n"
   ]
  },
  {
   "cell_type": "markdown",
   "id": "useful-trinidad",
   "metadata": {},
   "source": [
    "**💡Noter: Vérifiez que l'API Network Management est activée. Si ce n'est pas le cas, cliquez sur Activer.**"
   ]
  },
  {
   "cell_type": "markdown",
   "id": "female-influence",
   "metadata": {},
   "source": [
    "Vos paramètres de configuration doivent ressembler à ceux-ci :\n",
    "\n",
    "<img src=\"https://cdn.qwiklabs.com/vUEKd5MT1OCm%2FT4H%2FgKL7Cv4hTXZFR70CfxZqq4etDM%3D\"/>\n",
    "\n",
    "\n",
    "**🎉🎉Félicitations !🎉🎉**\n",
    "\n",
    "\n",
    "Si vous avez réussi à importer, créer, modifier et configurer l'architecture dans le temps imparti, vous avez démontré votre maîtrise de Terraform. Dans cet atelier, vous avez commencé par importer deux VM pré-configurées dans Terraform et par créer un bucket Cloud Storage pour configurer votre backend. Vous avez ensuite ajouté une autre instance, avant de vous entraîner à modifier et mettre à jour les configurations de ressources dans vos modules. Enfin, vous avez utilisé un module du registre Terraform pour créer un VPC avec deux sous-réseaux, vous y avez connecté les instances et vous avez créé une règle de pare-feu pour autoriser les connexions entre elles."
   ]
  },
  {
   "cell_type": "code",
   "execution_count": null,
   "id": "conscious-synthetic",
   "metadata": {},
   "outputs": [],
   "source": []
  }
 ],
 "metadata": {
  "kernelspec": {
   "display_name": "Python 3",
   "language": "python",
   "name": "python3"
  },
  "language_info": {
   "codemirror_mode": {
    "name": "ipython",
    "version": 3
   },
   "file_extension": ".py",
   "mimetype": "text/x-python",
   "name": "python",
   "nbconvert_exporter": "python",
   "pygments_lexer": "ipython3",
   "version": "3.8.6"
  },
  "toc": {
   "base_numbering": 1,
   "nav_menu": {},
   "number_sections": true,
   "sideBar": true,
   "skip_h1_title": false,
   "title_cell": "Table of Contents",
   "title_sidebar": "Contents",
   "toc_cell": false,
   "toc_position": {},
   "toc_section_display": true,
   "toc_window_display": false
  }
 },
 "nbformat": 4,
 "nbformat_minor": 5
}
