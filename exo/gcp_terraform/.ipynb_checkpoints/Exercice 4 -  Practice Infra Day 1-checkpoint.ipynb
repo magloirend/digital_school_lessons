{
 "cells": [
  {
   "cell_type": "markdown",
   "id": "stainless-bridge",
   "metadata": {},
   "source": [
    "Vous êtes ingénieur cloud stagiaire pour un Grand Groupe international 👨‍💻. \n",
    "\n",
    "\n",
    "Pour votre premier projet, votre nouveau patron vous a demandé de créer une infrastructure de façon rapide et efficace.\n",
    "\n",
    "Pour ce projet, vous allez devoir tout d'abord créer à l'aide de L'UI ou le gcloud cli:\n",
    "\n",
    "**Créer une architecture GCP :**\n",
    "\n",
    "- Créer une convention de nommage\n",
    "    (Vous utiliserez cette convention de nommage pour vos services GCP)\n",
    "\n",
    "- Créez d'abord un compte de service qui aura tous les droits.\n",
    "\n",
    "\n",
    "- Utiliser google cloud storage :\n",
    "\tCréez un bucket pour stocker l'état de votre terraform. \n",
    "\tEt un autre pour sauvegarder votre réponse json ( nous l'utiliserons plus tard)\n",
    "\n",
    "- Ce compte de service créera une Cloud functions\n",
    "\tVous allez créer une API en utilisant les fonctions Cloud pour appeler l'API de votre choix. ",
    "\n",
    "\n",
    "- Vous sauvegarderez le résultat de votre appel dans le bucket créé précédemment.\n",
    "\n",
    "\n",
    "\n",
    "**Créer la même architecture en utilisant Terraform**\n",
    "\n"
   ]
  },
  {
   "cell_type": "markdown",
   "id": "elder-lounge",
   "metadata": {},
   "source": [
    "**💡Liens utiles💡 :**\n",
    "\n",
    "- Naming Convention :\n",
    "    - https://github.com/MicrosoftDocs/cloud-adoption-framework/blob/main/docs/ready/azure-best-practices/resource-naming.md\n",
    "\n",
    "- Compte de service :\n",
    "    - https://cloud.google.com/iam/docs/service-accounts-create?hl=fr\n",
    "    \n",
    "- Cloud Storage (Bucket):\n",
    "    - https://cloud.google.com/storage/docs/creating-buckets?hl=fr#storage-create-bucket-terraform\n",
    "    \n",
    "- Cloud functions :\n",
    "     - https://cloud.google.com/functions/docs/create-deploy-gcloud?hl=fr\n",
    "     \n",
    "     \n",
    "- Terraform :\n",
    "    - https://github.com/terraform-google-modules/terraform-docs-samples"
   ]
  }
 ],
 "metadata": {
  "kernelspec": {
   "display_name": "Python 3",
   "language": "python",
   "name": "python3"
  },
  "language_info": {
   "codemirror_mode": {
    "name": "ipython",
    "version": 3
   },
   "file_extension": ".py",
   "mimetype": "text/x-python",
   "name": "python",
   "nbconvert_exporter": "python",
   "pygments_lexer": "ipython3",
   "version": "3.8.6"
  },
  "toc": {
   "base_numbering": 1,
   "nav_menu": {},
   "number_sections": true,
   "sideBar": true,
   "skip_h1_title": false,
   "title_cell": "Table of Contents",
   "title_sidebar": "Contents",
   "toc_cell": false,
   "toc_position": {},
   "toc_section_display": true,
   "toc_window_display": false
  }
 },
 "nbformat": 4,
 "nbformat_minor": 5
}
