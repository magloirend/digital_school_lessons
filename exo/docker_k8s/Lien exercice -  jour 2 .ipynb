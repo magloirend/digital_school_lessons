{
 "cells": [
  {
   "cell_type": "markdown",
   "id": "informational-bedroom",
   "metadata": {},
   "source": [
    "# Exercice Docker - Kubernetes\n"
   ]
  },
  {
   "cell_type": "markdown",
   "id": "supreme-upper",
   "metadata": {},
   "source": [
    "## Pensez bien à changer la région (europe-west1) et les Zones (europe-west1-d)"
   ]
  },
  {
   "cell_type": "markdown",
   "id": "disciplinary-purple",
   "metadata": {},
   "source": [
    "exo jour 2:\n",
    "- https://www.cloudskillsboost.google/focuses/1029?catalog_rank=%7B%22rank%22%3A5%2C%22num_filters%22%3A0%2C%22has_search%22%3Atrue%7D&parent=catalog&search_id=23611361\n",
    "\n",
    "- https://www.cloudskillsboost.google/focuses/878?parent=catalog\n",
    "\n",
    "- https://www.cloudskillsboost.google/focuses/557?parent=catalog\n",
    "\n",
    "- https://www.cloudskillsboost.google/focuses/1205?parent=catalog\n",
    "\n",
    "- https://www.cloudskillsboost.google/focuses/10910?catalog_rank=%7B%22rank%22%3A4%2C%22num_filters%22%3A0%2C%22has_search%22%3Atrue%7D&parent=catalog&search_id=23611418\n",
    "\n",
    "- https://www.cloudskillsboost.google/focuses/5157?catalog_rank=%7B%22rank%22%3A5%2C%22num_filters%22%3A0%2C%22has_search%22%3Atrue%7D&parent=catalog&search_id=23611418\n"
   ]
  }
 ],
 "metadata": {
  "kernelspec": {
   "display_name": "Python 3",
   "language": "python",
   "name": "python3"
  },
  "language_info": {
   "codemirror_mode": {
    "name": "ipython",
    "version": 3
   },
   "file_extension": ".py",
   "mimetype": "text/x-python",
   "name": "python",
   "nbconvert_exporter": "python",
   "pygments_lexer": "ipython3",
   "version": "3.8.6"
  },
  "toc": {
   "base_numbering": 1,
   "nav_menu": {},
   "number_sections": true,
   "sideBar": true,
   "skip_h1_title": false,
   "title_cell": "Table of Contents",
   "title_sidebar": "Contents",
   "toc_cell": false,
   "toc_position": {},
   "toc_section_display": true,
   "toc_window_display": false
  }
 },
 "nbformat": 4,
 "nbformat_minor": 5
}
